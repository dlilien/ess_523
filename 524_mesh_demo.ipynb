{
 "metadata": {
  "name": "",
  "signature": "sha256:4926734dfd5ac760b3bb9a316cadd49a7657e99f58f9cef9f41d93c6607e6c0a"
 },
 "nbformat": 3,
 "nbformat_minor": 0,
 "worksheets": [
  {
   "cells": [
    {
     "cell_type": "markdown",
     "metadata": {},
     "source": [
      "This is a demonstration of some of the features of the \"mesh\" class. Associated with this is "
     ]
    },
    {
     "cell_type": "code",
     "collapsed": false,
     "input": [
      "import numpy as np\n",
      "import matplotlib # Need to do an annoying import to get the correct backend to load\n",
      "import matplotlib.pyplot as plt\n",
      "%matplotlib inline"
     ],
     "language": "python",
     "metadata": {},
     "outputs": []
    },
    {
     "cell_type": "code",
     "collapsed": false,
     "input": [
      "import mesh                     # Contains the classes to produce meshes (could be used for finite volume too)\n",
      "import fem                      # Contains the finite element code\n",
      "reload(mesh)                    # This is just for while I'm adding code, not needed later\n",
      "reload(fem)"
     ],
     "language": "python",
     "metadata": {},
     "outputs": []
    },
    {
     "cell_type": "code",
     "collapsed": false,
     "input": [
      "tm=mesh.Mesh()                  # Empty mesh for test case\n",
      "tm.loadgmsh('testmesh.msh')     # Load my mesh for testing\n",
      "tm.CreateBases()                # Maybe we will want these\n",
      "fem.MakeMatrix(tm)"
     ],
     "language": "python",
     "metadata": {},
     "outputs": []
    },
    {
     "cell_type": "code",
     "collapsed": false,
     "input": [
      "tm.PlotBorder(axis=[4, 11, 4, 11])"
     ],
     "language": "python",
     "metadata": {},
     "outputs": []
    },
    {
     "cell_type": "code",
     "collapsed": false,
     "input": [
      "plt.figure(2,figsize=(15,10))                  # A nice display size\n",
      "tm.PlotMesh(axis=[4, 11, 4, 11],labels='area',fignum=2)    # Print it out"
     ],
     "language": "python",
     "metadata": {},
     "outputs": []
    },
    {
     "cell_type": "code",
     "collapsed": false,
     "input": [
      "plt.spy(tm.matrix) # Is this matrix really sparse?"
     ],
     "language": "python",
     "metadata": {},
     "outputs": []
    },
    {
     "cell_type": "code",
     "collapsed": false,
     "input": [],
     "language": "python",
     "metadata": {},
     "outputs": []
    },
    {
     "cell_type": "code",
     "collapsed": false,
     "input": [],
     "language": "python",
     "metadata": {},
     "outputs": []
    }
   ],
   "metadata": {}
  }
 ]
}