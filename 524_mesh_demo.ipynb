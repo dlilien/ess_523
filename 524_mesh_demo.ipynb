{
 "metadata": {
  "name": "",
  "signature": "sha256:5fbc0935fb9a75b2eac0cfcb82edb17440b22a2d6108d262d2b91b6e5c3af626"
 },
 "nbformat": 3,
 "nbformat_minor": 0,
 "worksheets": [
  {
   "cells": [
    {
     "cell_type": "heading",
     "level": 1,
     "metadata": {},
     "source": [
      "A simple 2D finite element package"
     ]
    },
    {
     "cell_type": "heading",
     "level": 2,
     "metadata": {},
     "source": [
      "https://github.com/dlilien/fem_2d"
     ]
    },
    {
     "cell_type": "markdown",
     "metadata": {},
     "source": [
      "This is a demonstration of some of the features of the 2d finite element code I have written. It uses the \"mesh\" class, which can be created manually but should really just be used to import meshes from gmsh (can be downloaded from http://geuz.org/gmsh/). All the code for this project should be pulled from https://github.com/dlilien/fem_2d. The only dependencies are python, numpy, scipy, and matplotlib. Convenience scripts to aid in mesh generation for geophysical problems are included in the repository but not shown here."
     ]
    },
    {
     "cell_type": "code",
     "collapsed": false,
     "input": [
      "import numpy as np\n",
      "import matplotlib # Need to do an annoying import to get the correct backend to load\n",
      "import matplotlib.pyplot as plt\n",
      "%matplotlib inline"
     ],
     "language": "python",
     "metadata": {},
     "outputs": [],
     "prompt_number": 102
    },
    {
     "cell_type": "code",
     "collapsed": false,
     "input": [
      "import mesh                     # Contains the classes to produce meshes (could be used for finite volume too)\n",
      "import fem                      # Contains the finite element code\n",
      "reload(mesh)                    # This is just for while I'm adding code, not needed later\n",
      "reload(fem)"
     ],
     "language": "python",
     "metadata": {},
     "outputs": [
      {
       "metadata": {},
       "output_type": "pyout",
       "prompt_number": 103,
       "text": [
        "<module 'fem' from 'fem.py'>"
       ]
      }
     ],
     "prompt_number": 103
    },
    {
     "cell_type": "heading",
     "level": 2,
     "metadata": {},
     "source": [
      "Diffusion"
     ]
    },
    {
     "cell_type": "markdown",
     "metadata": {},
     "source": [
      "Let's solve the diffusion equation on a simple domain. We need the weak form of the equation over domain $\\Omega$. Using Green's theorem with an arbitary solution $\\varphi$ and test function $\\phi$, this is\n",
      "\\begin{equation}\n",
      "\\int_\\Omega\\nabla\\cdot(k\\nabla\\phi)\\varphi d\\Omega=-\\int_\\Omega k\\nabla\\varphi\\cdot\\nabla\\phi d\\Omega+\\int_{\\partial\\Omega}\\varphi(k\\nabla\\phi\\cdot u_n) d\\partial\\Omega\n",
      "\\end{equation}\n",
      "where $u_n$ is the outward normal along the boundary $\\partial\\Omega$. Our solution is $\\varphi=\\sum a_i \\phi_i$ where the $\\phi_i$s are both the test and basis functions.\n",
      "\n",
      "Now to put this in matrix form, we let sum these integrals over the various trial and test functions to get\n",
      "\\begin{equation}\n",
      "\\sum_{i,j}\\int_\\Omega a_i\\nabla\\cdot(k\\nabla\\phi_i)\\phi_j d\\Omega=-\\sum_{i,j}\\int_\\Omega a_i k\\nabla\\phi_i\\cdot\\nabla\\phi_j d\\Omega+\\sum_{i,j}\\int_{\\partial\\Omega}a_i\\phi_i(k\\nabla\\phi_j\\cdot u_n) d\\partial\\Omega\n",
      "\\end{equation}\n",
      "The first two sums involve no boundary conditions. The third integral will vanish everywhere except along the borders, where we need to use it to specify the boundary conditions."
     ]
    },
    {
     "cell_type": "code",
     "collapsed": false,
     "input": [
      "tm=mesh.Mesh()                    # Empty mesh for test case\n",
      "tm.loadgmsh('testmesh.msh')       # Load my mesh for testing\n",
      "tm.CreateBases()                  # Maybe we will want these\n",
      "fem.MakeMatrixEQ(tm,f=lambda x:0.0,k=lambda x:10.0) # Form the diffusion equations"
     ],
     "language": "python",
     "metadata": {},
     "outputs": [],
     "prompt_number": 104
    },
    {
     "cell_type": "code",
     "collapsed": false,
     "input": [
      "tm.PlotBorder(axis=[-1, 11, -1, 11])"
     ],
     "language": "python",
     "metadata": {},
     "outputs": [
      {
       "metadata": {},
       "output_type": "display_data",
       "png": "[encoded data removed]",
       "text": [
        "<matplotlib.figure.Figure at 0x108263090>"
       ]
      }
     ],
     "prompt_number": 105
    },
    {
     "cell_type": "code",
     "collapsed": false,
     "input": [
      "plt.figure(2,figsize=(15,10))                  # A nice display size\n",
      "tm.PlotMesh(axis=[-1, 11, -1, 11],labels='number',fignum=2)    # Print it out"
     ],
     "language": "python",
     "metadata": {},
     "outputs": [
      {
       "metadata": {},
       "output_type": "display_data",
       "png": "[encoded data removed]",
       "text": [
        "<matplotlib.figure.Figure at 0x10b1c2250>"
       ]
      }
     ],
     "prompt_number": 106
    },
    {
     "cell_type": "code",
     "collapsed": false,
     "input": [
      "old_m=tm.matrix.copy()\n",
      "tm.matrix.toarray()"
     ],
     "language": "python",
     "metadata": {},
     "outputs": [
      {
       "metadata": {},
       "output_type": "pyout",
       "prompt_number": 107,
       "text": [
        "array([[  5.00000000e+00,   0.00000000e+00,   0.00000000e+00,\n",
        "          0.00000000e+00,  -3.80099598e-12,   0.00000000e+00,\n",
        "          0.00000000e+00,   3.80099598e-12,   0.00000000e+00,\n",
        "         -5.00000000e+00,   0.00000000e+00,   0.00000000e+00,\n",
        "          0.00000000e+00],\n",
        "       [  0.00000000e+00,   5.00000000e+00,   0.00000000e+00,\n",
        "          0.00000000e+00,   6.33455961e-12,  -6.33477645e-12,\n",
        "          0.00000000e+00,   0.00000000e+00,   0.00000000e+00,\n",
        "          0.00000000e+00,   0.00000000e+00,  -5.00000000e+00,\n",
        "          0.00000000e+00],\n",
        "       [  0.00000000e+00,   0.00000000e+00,   5.00000000e+00,\n",
        "          0.00000000e+00,   0.00000000e+00,   5.06474203e-12,\n",
        "         -2.53334680e-12,   0.00000000e+00,   0.00000000e+00,\n",
        "          0.00000000e+00,   0.00000000e+00,   0.00000000e+00,\n",
        "         -5.00000000e+00],\n",
        "       [  0.00000000e+00,   0.00000000e+00,   0.00000000e+00,\n",
        "          5.00000000e+00,   0.00000000e+00,   0.00000000e+00,\n",
        "          0.00000000e+00,   6.50521303e-16,   0.00000000e+00,\n",
        "          0.00000000e+00,  -5.00000000e+00,   0.00000000e+00,\n",
        "          0.00000000e+00],\n",
        "       [ -3.80099598e-12,   6.33455961e-12,   0.00000000e+00,\n",
        "          0.00000000e+00,   1.00000000e+01,   0.00000000e+00,\n",
        "          0.00000000e+00,   0.00000000e+00,  -1.26829970e-12,\n",
        "         -5.00000000e+00,   0.00000000e+00,  -5.00000000e+00,\n",
        "          0.00000000e+00],\n",
        "       [  0.00000000e+00,  -6.33477645e-12,   5.06474203e-12,\n",
        "          0.00000000e+00,   0.00000000e+00,   1.00000000e+01,\n",
        "          0.00000000e+00,   0.00000000e+00,  -2.16840436e-16,\n",
        "          0.00000000e+00,   0.00000000e+00,  -5.00000000e+00,\n",
        "         -5.00000000e+00],\n",
        "       [  0.00000000e+00,   0.00000000e+00,  -2.53334680e-12,\n",
        "          0.00000000e+00,   0.00000000e+00,   0.00000000e+00,\n",
        "          1.00000000e+01,   0.00000000e+00,  -1.26396289e-12,\n",
        "          0.00000000e+00,  -5.00000000e+00,   0.00000000e+00,\n",
        "         -5.00000000e+00],\n",
        "       [  3.80099598e-12,   0.00000000e+00,   0.00000000e+00,\n",
        "          6.50521303e-16,   0.00000000e+00,   0.00000000e+00,\n",
        "          0.00000000e+00,   1.00000000e+01,   0.00000000e+00,\n",
        "         -5.00000000e+00,  -5.00000000e+00,   0.00000000e+00,\n",
        "          0.00000000e+00],\n",
        "       [  0.00000000e+00,   0.00000000e+00,   0.00000000e+00,\n",
        "          0.00000000e+00,  -1.26829970e-12,  -2.16840436e-16,\n",
        "         -1.26396289e-12,   0.00000000e+00,   2.00000000e+01,\n",
        "         -5.00000000e+00,  -5.00000000e+00,  -5.00000000e+00,\n",
        "         -5.00000000e+00],\n",
        "       [ -5.00000000e+00,   0.00000000e+00,   0.00000000e+00,\n",
        "          0.00000000e+00,  -5.00000000e+00,   0.00000000e+00,\n",
        "          0.00000000e+00,  -5.00000000e+00,  -5.00000000e+00,\n",
        "          2.00000000e+01,  -2.16840437e-16,   0.00000000e+00,\n",
        "          0.00000000e+00],\n",
        "       [  0.00000000e+00,   0.00000000e+00,   0.00000000e+00,\n",
        "         -5.00000000e+00,   0.00000000e+00,   0.00000000e+00,\n",
        "         -5.00000000e+00,  -5.00000000e+00,  -5.00000000e+00,\n",
        "         -2.16840437e-16,   2.00000000e+01,   0.00000000e+00,\n",
        "          0.00000000e+00],\n",
        "       [  0.00000000e+00,  -5.00000000e+00,   0.00000000e+00,\n",
        "          0.00000000e+00,  -5.00000000e+00,  -5.00000000e+00,\n",
        "          0.00000000e+00,   0.00000000e+00,  -5.00000000e+00,\n",
        "          0.00000000e+00,   0.00000000e+00,   2.00000000e+01,\n",
        "          0.00000000e+00],\n",
        "       [  0.00000000e+00,   0.00000000e+00,  -5.00000000e+00,\n",
        "          0.00000000e+00,   0.00000000e+00,  -5.00000000e+00,\n",
        "         -5.00000000e+00,   0.00000000e+00,  -5.00000000e+00,\n",
        "          0.00000000e+00,   0.00000000e+00,   0.00000000e+00,\n",
        "          2.00000000e+01]])"
       ]
      }
     ],
     "prompt_number": 107
    },
    {
     "cell_type": "code",
     "collapsed": false,
     "input": [
      "fem.applyBCs(tm,dirichlet=[1,2,3,4],neumann=[],b_funcs={1:lambda x:10.0,2:lambda x:10.0,3:lambda x:abs(x[1]-5.0)+5.0,4:lambda x:10.0})"
     ],
     "language": "python",
     "metadata": {},
     "outputs": [],
     "prompt_number": 108
    },
    {
     "cell_type": "code",
     "collapsed": false,
     "input": [
      "fem.solveIt(tm,method='CG')       # Solve the equations using conjugate gradients, or BiCGStab if this fails\n",
      "sol=fem.plotSolution(tm,show=True,savesol=True)    # Let's see how we did"
     ],
     "language": "python",
     "metadata": {},
     "outputs": [
      {
       "metadata": {},
       "output_type": "display_data",
       "png": "[encoded data removed]",
       "text": [
        "<matplotlib.figure.Figure at 0x108e39650>"
       ]
      }
     ],
     "prompt_number": 109
    },
    {
     "cell_type": "heading",
     "level": 4,
     "metadata": {},
     "source": [
      "Let's see the effect that the dirichlet conditions had on the matrix"
     ]
    },
    {
     "cell_type": "code",
     "collapsed": false,
     "input": [
      "plt.figure(3,figsize=(18,10)); plt.subplot(121); plt.spy(old_m); plt.subplot(122); plt.spy(tm.matrix); plt.show()"
     ],
     "language": "python",
     "metadata": {},
     "outputs": [
      {
       "metadata": {},
       "output_type": "display_data",
       "png": "[encoded data removed]",
       "text": [
        "<matplotlib.figure.Figure at 0x107391ad0>"
       ]
      }
     ],
     "prompt_number": 110
    },
    {
     "cell_type": "code",
     "collapsed": false,
     "input": [
      "tm.rhs"
     ],
     "language": "python",
     "metadata": {},
     "outputs": [
      {
       "metadata": {},
       "output_type": "pyout",
       "prompt_number": 111,
       "text": [
        "array([  1.00000000e+01,   1.00000000e+01,   1.00000000e+01,\n",
        "         1.00000000e+01,   1.00000000e+01,   1.00000000e+01,\n",
        "         5.00000000e+00,   1.00000000e+01,   1.90049799e-11,\n",
        "         1.50000000e+02,   1.25000000e+02,   1.50000000e+02,\n",
        "         1.25000000e+02])"
       ]
      }
     ],
     "prompt_number": 111
    },
    {
     "cell_type": "code",
     "collapsed": false,
     "input": [
      "tm.matrix.toarray()"
     ],
     "language": "python",
     "metadata": {},
     "outputs": [
      {
       "metadata": {},
       "output_type": "pyout",
       "prompt_number": 112,
       "text": [
        "array([[  1.00000000e+00,   0.00000000e+00,   0.00000000e+00,\n",
        "          0.00000000e+00,   0.00000000e+00,   0.00000000e+00,\n",
        "          0.00000000e+00,   0.00000000e+00,   0.00000000e+00,\n",
        "          0.00000000e+00,   0.00000000e+00,   0.00000000e+00,\n",
        "          0.00000000e+00],\n",
        "       [  0.00000000e+00,   1.00000000e+00,   0.00000000e+00,\n",
        "          0.00000000e+00,   0.00000000e+00,   0.00000000e+00,\n",
        "          0.00000000e+00,   0.00000000e+00,   0.00000000e+00,\n",
        "          0.00000000e+00,   0.00000000e+00,   0.00000000e+00,\n",
        "          0.00000000e+00],\n",
        "       [  0.00000000e+00,   0.00000000e+00,   1.00000000e+00,\n",
        "          0.00000000e+00,   0.00000000e+00,   0.00000000e+00,\n",
        "          0.00000000e+00,   0.00000000e+00,   0.00000000e+00,\n",
        "          0.00000000e+00,   0.00000000e+00,   0.00000000e+00,\n",
        "          0.00000000e+00],\n",
        "       [  0.00000000e+00,   0.00000000e+00,   0.00000000e+00,\n",
        "          1.00000000e+00,   0.00000000e+00,   0.00000000e+00,\n",
        "          0.00000000e+00,   0.00000000e+00,   0.00000000e+00,\n",
        "          0.00000000e+00,   0.00000000e+00,   0.00000000e+00,\n",
        "          0.00000000e+00],\n",
        "       [  0.00000000e+00,   0.00000000e+00,   0.00000000e+00,\n",
        "          0.00000000e+00,   1.00000000e+00,   0.00000000e+00,\n",
        "          0.00000000e+00,   0.00000000e+00,   0.00000000e+00,\n",
        "          0.00000000e+00,   0.00000000e+00,   0.00000000e+00,\n",
        "          0.00000000e+00],\n",
        "       [  0.00000000e+00,   0.00000000e+00,   0.00000000e+00,\n",
        "          0.00000000e+00,   0.00000000e+00,   1.00000000e+00,\n",
        "          0.00000000e+00,   0.00000000e+00,   0.00000000e+00,\n",
        "          0.00000000e+00,   0.00000000e+00,   0.00000000e+00,\n",
        "          0.00000000e+00],\n",
        "       [  0.00000000e+00,   0.00000000e+00,   0.00000000e+00,\n",
        "          0.00000000e+00,   0.00000000e+00,   0.00000000e+00,\n",
        "          1.00000000e+00,   0.00000000e+00,   0.00000000e+00,\n",
        "          0.00000000e+00,   0.00000000e+00,   0.00000000e+00,\n",
        "          0.00000000e+00],\n",
        "       [  0.00000000e+00,   0.00000000e+00,   0.00000000e+00,\n",
        "          0.00000000e+00,   0.00000000e+00,   0.00000000e+00,\n",
        "          0.00000000e+00,   1.00000000e+00,   0.00000000e+00,\n",
        "          0.00000000e+00,   0.00000000e+00,   0.00000000e+00,\n",
        "          0.00000000e+00],\n",
        "       [  0.00000000e+00,   0.00000000e+00,   0.00000000e+00,\n",
        "          0.00000000e+00,   0.00000000e+00,   0.00000000e+00,\n",
        "          0.00000000e+00,   0.00000000e+00,   2.00000000e+01,\n",
        "         -5.00000000e+00,  -5.00000000e+00,  -5.00000000e+00,\n",
        "         -5.00000000e+00],\n",
        "       [  0.00000000e+00,   0.00000000e+00,   0.00000000e+00,\n",
        "          0.00000000e+00,   0.00000000e+00,   0.00000000e+00,\n",
        "          0.00000000e+00,   0.00000000e+00,  -5.00000000e+00,\n",
        "          2.00000000e+01,  -2.16840437e-16,   0.00000000e+00,\n",
        "          0.00000000e+00],\n",
        "       [  0.00000000e+00,   0.00000000e+00,   0.00000000e+00,\n",
        "          0.00000000e+00,   0.00000000e+00,   0.00000000e+00,\n",
        "          0.00000000e+00,   0.00000000e+00,  -5.00000000e+00,\n",
        "         -2.16840437e-16,   2.00000000e+01,   0.00000000e+00,\n",
        "          0.00000000e+00],\n",
        "       [  0.00000000e+00,   0.00000000e+00,   0.00000000e+00,\n",
        "          0.00000000e+00,   0.00000000e+00,   0.00000000e+00,\n",
        "          0.00000000e+00,   0.00000000e+00,  -5.00000000e+00,\n",
        "          0.00000000e+00,   0.00000000e+00,   2.00000000e+01,\n",
        "          0.00000000e+00],\n",
        "       [  0.00000000e+00,   0.00000000e+00,   0.00000000e+00,\n",
        "          0.00000000e+00,   0.00000000e+00,   0.00000000e+00,\n",
        "          0.00000000e+00,   0.00000000e+00,  -5.00000000e+00,\n",
        "          0.00000000e+00,   0.00000000e+00,   0.00000000e+00,\n",
        "          2.00000000e+01]])"
       ]
      }
     ],
     "prompt_number": 112
    },
    {
     "cell_type": "code",
     "collapsed": false,
     "input": [
      "tm.sol"
     ],
     "language": "python",
     "metadata": {},
     "outputs": [
      {
       "metadata": {},
       "output_type": "pyout",
       "prompt_number": 113,
       "text": [
        "array([ 10.        ,  10.        ,  10.        ,  10.        ,\n",
        "        10.        ,  10.        ,   5.        ,  10.        ,\n",
        "         9.16666667,   9.79166667,   8.54166667,   9.79166667,   8.54166667])"
       ]
      }
     ],
     "prompt_number": 113
    },
    {
     "cell_type": "code",
     "collapsed": false,
     "input": [
      "tm.matsol"
     ],
     "language": "python",
     "metadata": {},
     "outputs": [
      {
       "metadata": {},
       "output_type": "pyout",
       "prompt_number": 114,
       "text": [
        "[array([  0.        ,   0.52631579,   1.05263158,   1.57894737,\n",
        "          2.10526316,   2.63157895,   3.15789474,   3.68421053,\n",
        "          4.21052632,   4.73684211,   5.26315789,   5.78947368,\n",
        "          6.31578947,   6.84210526,   7.36842105,   7.89473684,\n",
        "          8.42105263,   8.94736842,   9.47368421,  10.        ]),\n",
        " array([  0.        ,   0.52631579,   1.05263158,   1.57894737,\n",
        "          2.10526316,   2.63157895,   3.15789474,   3.68421053,\n",
        "          4.21052632,   4.73684211,   5.26315789,   5.78947368,\n",
        "          6.31578947,   6.84210526,   7.36842105,   7.89473684,\n",
        "          8.42105263,   8.94736842,   9.47368421,  10.        ]),\n",
        " array([[ 10.        ,  10.        ,  10.        ,  10.        ,\n",
        "          10.        ,  10.        ,  10.        ,  10.        ,\n",
        "          10.        ,  10.        ,  10.        ,  10.        ,\n",
        "          10.        ,  10.        ,  10.        ,  10.        ,\n",
        "          10.        ,  10.        ,  10.        ,  10.        ],\n",
        "        [ 10.        ,   9.95614035,   9.95614035,   9.95614035,\n",
        "           9.95614035,   9.95614035,   9.95614035,   9.95614035,\n",
        "           9.95614035,   9.89035088,   9.75877193,   9.69298246,\n",
        "           9.69298246,   9.69298246,   9.69298246,   9.69298246,\n",
        "           9.69298246,   9.69298246,   9.69298246,   9.47368421],\n",
        "        [ 10.        ,   9.95614035,   9.9122807 ,   9.9122807 ,\n",
        "           9.9122807 ,   9.9122807 ,   9.9122807 ,   9.9122807 ,\n",
        "           9.84649123,   9.71491228,   9.58333333,   9.45175439,\n",
        "           9.38596491,   9.38596491,   9.38596491,   9.38596491,\n",
        "           9.38596491,   9.38596491,   9.16666667,   8.94736842],\n",
        "        [ 10.        ,   9.95614035,   9.9122807 ,   9.86842105,\n",
        "           9.86842105,   9.86842105,   9.86842105,   9.80263158,\n",
        "           9.67105263,   9.53947368,   9.40789474,   9.27631579,\n",
        "           9.14473684,   9.07894737,   9.07894737,   9.07894737,\n",
        "           9.07894737,   8.85964912,   8.64035088,   8.42105263],\n",
        "        [ 10.        ,   9.95614035,   9.9122807 ,   9.86842105,\n",
        "           9.8245614 ,   9.8245614 ,   9.75877193,   9.62719298,\n",
        "           9.49561404,   9.36403509,   9.23245614,   9.10087719,\n",
        "           8.96929825,   8.8377193 ,   8.77192982,   8.77192982,\n",
        "           8.55263158,   8.33333333,   8.11403509,   7.89473684],\n",
        "        [ 10.        ,   9.95614035,   9.9122807 ,   9.86842105,\n",
        "           9.8245614 ,   9.75877193,   9.62719298,   9.49561404,\n",
        "           9.36403509,   9.23245614,   9.10087719,   8.96929825,\n",
        "           8.8377193 ,   8.70614035,   8.5745614 ,   8.24561404,\n",
        "           8.02631579,   7.80701754,   7.5877193 ,   7.36842105],\n",
        "        [ 10.        ,   9.95614035,   9.9122807 ,   9.86842105,\n",
        "           9.80263158,   9.71491228,   9.62719298,   9.49561404,\n",
        "           9.36403509,   9.23245614,   9.10087719,   8.96929825,\n",
        "           8.8377193 ,   8.70614035,   8.26754386,   7.82894737,\n",
        "           7.5       ,   7.28070175,   7.06140351,   6.84210526],\n",
        "        [ 10.        ,   9.95614035,   9.9122807 ,   9.84649123,\n",
        "           9.75877193,   9.67105263,   9.58333333,   9.49561404,\n",
        "           9.36403509,   9.23245614,   9.10087719,   8.96929825,\n",
        "           8.8377193 ,   8.39912281,   7.96052632,   7.52192982,\n",
        "           7.08333333,   6.75438596,   6.53508772,   6.31578947],\n",
        "        [ 10.        ,   9.95614035,   9.89035088,   9.80263158,\n",
        "           9.71491228,   9.62719298,   9.53947368,   9.45175439,\n",
        "           9.36403509,   9.23245614,   9.10087719,   8.96929825,\n",
        "           8.53070175,   8.09210526,   7.65350877,   7.21491228,\n",
        "           6.77631579,   6.3377193 ,   6.00877193,   5.78947368],\n",
        "        [ 10.        ,   9.93421053,   9.84649123,   9.75877193,\n",
        "           9.67105263,   9.58333333,   9.49561404,   9.40789474,\n",
        "           9.32017544,   9.23245614,   9.10087719,   8.6622807 ,\n",
        "           8.22368421,   7.78508772,   7.34649123,   6.90789474,\n",
        "           6.46929825,   6.03070175,   5.59210526,   5.26315789],\n",
        "        [ 10.        ,   9.93421053,   9.84649123,   9.75877193,\n",
        "           9.67105263,   9.58333333,   9.49561404,   9.40789474,\n",
        "           9.32017544,   9.23245614,   9.10087719,   8.6622807 ,\n",
        "           8.22368421,   7.78508772,   7.34649123,   6.90789474,\n",
        "           6.46929825,   6.03070175,   5.59210526,   5.26315789],\n",
        "        [ 10.        ,   9.95614035,   9.89035088,   9.80263158,\n",
        "           9.71491228,   9.62719298,   9.53947368,   9.45175439,\n",
        "           9.36403509,   9.23245614,   9.10087719,   8.96929825,\n",
        "           8.53070175,   8.09210526,   7.65350877,   7.21491228,\n",
        "           6.77631579,   6.3377193 ,   6.00877193,   5.78947368],\n",
        "        [ 10.        ,   9.95614035,   9.9122807 ,   9.84649123,\n",
        "           9.75877193,   9.67105263,   9.58333333,   9.49561404,\n",
        "           9.36403509,   9.23245614,   9.10087719,   8.96929825,\n",
        "           8.8377193 ,   8.39912281,   7.96052632,   7.52192982,\n",
        "           7.08333333,   6.75438596,   6.53508772,   6.31578947],\n",
        "        [ 10.        ,   9.95614035,   9.9122807 ,   9.86842105,\n",
        "           9.80263158,   9.71491228,   9.62719298,   9.49561404,\n",
        "           9.36403509,   9.23245614,   9.10087719,   8.96929825,\n",
        "           8.8377193 ,   8.70614035,   8.26754386,   7.82894737,\n",
        "           7.5       ,   7.28070175,   7.06140351,   6.84210526],\n",
        "        [ 10.        ,   9.95614035,   9.9122807 ,   9.86842105,\n",
        "           9.8245614 ,   9.75877193,   9.62719298,   9.49561404,\n",
        "           9.36403509,   9.23245614,   9.10087719,   8.96929825,\n",
        "           8.8377193 ,   8.70614035,   8.5745614 ,   8.24561404,\n",
        "           8.02631579,   7.80701754,   7.5877193 ,   7.36842105],\n",
        "        [ 10.        ,   9.95614035,   9.9122807 ,   9.86842105,\n",
        "           9.8245614 ,   9.8245614 ,   9.75877193,   9.62719298,\n",
        "           9.49561404,   9.36403509,   9.23245614,   9.10087719,\n",
        "           8.96929825,   8.8377193 ,   8.77192982,   8.77192982,\n",
        "           8.55263158,   8.33333333,   8.11403509,   7.89473684],\n",
        "        [ 10.        ,   9.95614035,   9.9122807 ,   9.86842105,\n",
        "           9.86842105,   9.86842105,   9.86842105,   9.80263158,\n",
        "           9.67105263,   9.53947368,   9.40789474,   9.27631579,\n",
        "           9.14473684,   9.07894737,   9.07894737,   9.07894737,\n",
        "           9.07894737,   8.85964912,   8.64035088,   8.42105263],\n",
        "        [ 10.        ,   9.95614035,   9.9122807 ,   9.9122807 ,\n",
        "           9.9122807 ,   9.9122807 ,   9.9122807 ,   9.9122807 ,\n",
        "           9.84649123,   9.71491228,   9.58333333,   9.45175439,\n",
        "           9.38596491,   9.38596491,   9.38596491,   9.38596491,\n",
        "           9.38596491,   9.38596491,   9.16666667,   8.94736842],\n",
        "        [ 10.        ,   9.95614035,   9.95614035,   9.95614035,\n",
        "           9.95614035,   9.95614035,   9.95614035,   9.95614035,\n",
        "           9.95614035,   9.89035088,   9.75877193,   9.69298246,\n",
        "           9.69298246,   9.69298246,   9.69298246,   9.69298246,\n",
        "           9.69298246,   9.69298246,   9.69298246,   9.47368421],\n",
        "        [ 10.        ,  10.        ,  10.        ,  10.        ,\n",
        "          10.        ,  10.        ,  10.        ,  10.        ,\n",
        "          10.        ,  10.        ,  10.        ,  10.        ,\n",
        "          10.        ,  10.        ,  10.        ,  10.        ,\n",
        "          10.        ,  10.        ,  10.        ,  10.        ]])]"
       ]
      }
     ],
     "prompt_number": 114
    },
    {
     "cell_type": "code",
     "collapsed": false,
     "input": [],
     "language": "python",
     "metadata": {},
     "outputs": [],
     "prompt_number": 114
    },
    {
     "cell_type": "code",
     "collapsed": false,
     "input": [],
     "language": "python",
     "metadata": {},
     "outputs": [],
     "prompt_number": 114
    }
   ],
   "metadata": {}
  }
 ]
}