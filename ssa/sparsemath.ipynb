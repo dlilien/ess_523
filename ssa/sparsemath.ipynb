{
 "metadata": {
  "name": "",
  "signature": "sha256:d56c0f5ed8af5b32bad7b249d194e78cde598a85261426494e3690ebc5880a9c"
 },
 "nbformat": 3,
 "nbformat_minor": 0,
 "worksheets": [
  {
   "cells": [
    {
     "cell_type": "code",
     "collapsed": false,
     "input": [
      "import numpy as np\n",
      "from scipy.sparse.linalg import bicgstab,cg,gmres,spsolve,spilu,LinearOperator\n",
      "from scipy.sparse import csr_matrix,diags\n",
      "from scipy.io import mmread\n",
      "from matplotlib.pyplot import spy\n",
      "import matplotlib\n",
      "%matplotlib inline"
     ],
     "language": "python",
     "metadata": {},
     "outputs": [],
     "prompt_number": 1
    },
    {
     "cell_type": "markdown",
     "metadata": {},
     "source": [
      "The size of the problem is about $3500\\times3500$. This only takes 93mb."
     ]
    },
    {
     "cell_type": "code",
     "collapsed": false,
     "input": [
      "wide_sym_spm=mmread('A.mtx').tocsr()  # I saved these from a problem before\n",
      "d=np.load('rhs.npy')"
     ],
     "language": "python",
     "metadata": {},
     "outputs": [],
     "prompt_number": 2
    },
    {
     "cell_type": "markdown",
     "metadata": {},
     "source": [
      "Itereative, Sparse, no preconditioning\n",
      "=====\n",
      "Krylov Methods\n",
      "-------"
     ]
    },
    {
     "cell_type": "markdown",
     "metadata": {},
     "source": [
      "1 loops, best of 3: 25 s per loop"
     ]
    },
    {
     "cell_type": "code",
     "collapsed": false,
     "input": [
      "%timeit cg(wide_sym_spm,d) # 1 loops, best of 3: 3.67 s per loop"
     ],
     "language": "python",
     "metadata": {},
     "outputs": [
      {
       "output_type": "stream",
       "stream": "stdout",
       "text": [
        "1 loops, best of 3: 3.89 s per loop\n"
       ]
      }
     ],
     "prompt_number": 3
    },
    {
     "cell_type": "code",
     "collapsed": false,
     "input": [
      "%timeit bicgstab(wide_sym_spm,d) # 1 loops, best of 3: 7.24 s per loop"
     ],
     "language": "python",
     "metadata": {},
     "outputs": [
      {
       "output_type": "stream",
       "stream": "stdout",
       "text": [
        "1 loops, best of 3: 6.92 s per loop\n"
       ]
      }
     ],
     "prompt_number": 4
    },
    {
     "cell_type": "code",
     "collapsed": false,
     "input": [
      "# %timeit gmres(wide_sym_spm,d) This is not a good idea without preconditioning. It stagnates"
     ],
     "language": "python",
     "metadata": {},
     "outputs": [],
     "prompt_number": 5
    },
    {
     "cell_type": "markdown",
     "metadata": {},
     "source": [
      "Sparse, Direct\n",
      "=============="
     ]
    },
    {
     "cell_type": "code",
     "collapsed": false,
     "input": [
      "%timeit spsolve(wide_sym_spm,d)"
     ],
     "language": "python",
     "metadata": {},
     "outputs": [
      {
       "output_type": "stream",
       "stream": "stdout",
       "text": [
        "10 loops, best of 3: 23.1 ms per loop\n"
       ]
      }
     ],
     "prompt_number": 6
    },
    {
     "cell_type": "markdown",
     "metadata": {},
     "source": [
      "Sparse, Iterative, Preconditioned\n",
      "====="
     ]
    },
    {
     "cell_type": "code",
     "collapsed": false,
     "input": [
      "def pisolve(method,matrix):\n",
      "    p=spilu(matrix,drop_tol=1.0e-5)\n",
      "    mx=lambda x: p.solve(x)\n",
      "    M=LinearOperator(matrix.shape,mx)\n",
      "    method(matrix,d,M=M)"
     ],
     "language": "python",
     "metadata": {},
     "outputs": [],
     "prompt_number": 7
    },
    {
     "cell_type": "code",
     "collapsed": false,
     "input": [
      "%timeit pisolve(cg,wide_sym_spm)  # The matrix isn't quite symmetric so this is not optimal"
     ],
     "language": "python",
     "metadata": {},
     "outputs": [
      {
       "output_type": "stream",
       "stream": "stdout",
       "text": [
        "10 loops, best of 3: 34.3 ms per loop\n"
       ]
      },
      {
       "output_type": "stream",
       "stream": "stderr",
       "text": [
        "/usr/local/lib/python3.4/site-packages/scipy/sparse/linalg/dsolve/linsolve.py:293: SparseEfficiencyWarning: splu requires CSC matrix format\n",
        "  warn('splu requires CSC matrix format', SparseEfficiencyWarning)\n"
       ]
      }
     ],
     "prompt_number": 8
    },
    {
     "cell_type": "code",
     "collapsed": false,
     "input": [
      "%timeit pisolve(bicgstab,wide_sym_spm) # This beats direct!"
     ],
     "language": "python",
     "metadata": {},
     "outputs": [
      {
       "output_type": "stream",
       "stream": "stdout",
       "text": [
        "10 loops, best of 3: 28 ms per loop\n"
       ]
      }
     ],
     "prompt_number": 9
    },
    {
     "cell_type": "code",
     "collapsed": false,
     "input": [
      "%timeit pisolve(gmres,wide_sym_spm) # This also beats direct!"
     ],
     "language": "python",
     "metadata": {},
     "outputs": [
      {
       "output_type": "stream",
       "stream": "stdout",
       "text": [
        "10 loops, best of 3: 26.8 ms per loop\n"
       ]
      }
     ],
     "prompt_number": 10
    },
    {
     "cell_type": "markdown",
     "metadata": {},
     "source": [
      "Dense Math\n",
      "========\n",
      "We just added a ton of calculations"
     ]
    },
    {
     "cell_type": "code",
     "collapsed": false,
     "input": [
      "%timeit np.dot(np.linalg.inv(wide_sym_spm.toarray()),d) # 1 loops, best of 3: 3.4 s per loop"
     ],
     "language": "python",
     "metadata": {},
     "outputs": [
      {
       "output_type": "stream",
       "stream": "stdout",
       "text": [
        "1 loops, best of 3: 3.42 s per loop\n"
       ]
      }
     ],
     "prompt_number": 11
    },
    {
     "cell_type": "code",
     "collapsed": false,
     "input": [
      "%timeit np.linalg.solve(wide_sym_spm.toarray(),d) # 1 loops, best of 3: 1.03 s per loop"
     ],
     "language": "python",
     "metadata": {},
     "outputs": [
      {
       "output_type": "stream",
       "stream": "stdout",
       "text": [
        "1 loops, best of 3: 1.03 s per loop\n"
       ]
      }
     ],
     "prompt_number": 12
    },
    {
     "cell_type": "markdown",
     "metadata": {},
     "source": [
      "Now let's do a bigger problem\n",
      "============================="
     ]
    },
    {
     "cell_type": "markdown",
     "metadata": {},
     "source": [
      "Just to store the dense matrix is\n",
      "$ 20000\\times 20000\\times \\frac{64}8=2.97$ Gb\n",
      "\n",
      "If we store the inverse as well, we are basically at my system memory. Plus we need to operate on it. In either case "
     ]
    },
    {
     "cell_type": "code",
     "collapsed": false,
     "input": [
      "bigger_wide_sym_spm=mmread('Abigger.mtx').tocsr()  # I saved these from a problem before\n",
      "bigger_d=np.load('rhsbigger.npy')"
     ],
     "language": "python",
     "metadata": {},
     "outputs": [],
     "prompt_number": 13
    },
    {
     "cell_type": "code",
     "collapsed": false,
     "input": [
      "%timeit cg(bigger_wide_sym_spm,bigger_d) #csc 10 loops, best of 3: 144 ms per loop"
     ],
     "language": "python",
     "metadata": {},
     "outputs": [
      {
       "output_type": "stream",
       "stream": "stdout",
       "text": [
        "10 loops, best of 3: 116 ms per loop\n"
       ]
      }
     ],
     "prompt_number": 14
    },
    {
     "cell_type": "code",
     "collapsed": false,
     "input": [
      "%timeit bicgstab(bigger_wide_sym_spm,bigger_d) #csc 1 loops, best of 3: 93.2 ms per loop"
     ],
     "language": "python",
     "metadata": {},
     "outputs": [
      {
       "output_type": "stream",
       "stream": "stdout",
       "text": [
        "10 loops, best of 3: 109 ms per loop\n"
       ]
      }
     ],
     "prompt_number": 15
    },
    {
     "cell_type": "code",
     "collapsed": false,
     "input": [
      "%timeit spsolve(bigger_wide_sym_spm,bigger_d) #csc 1 loops, best of 3: 69.9 ms per loop"
     ],
     "language": "python",
     "metadata": {},
     "outputs": [
      {
       "output_type": "stream",
       "stream": "stdout",
       "text": [
        "1 loops, best of 3: 79.3 ms per loop\n"
       ]
      }
     ],
     "prompt_number": 16
    },
    {
     "cell_type": "code",
     "collapsed": false,
     "input": [
      "#%timeit np.dot(np.linalg.inv(bigger_wide_sym_spm.toarray()),bigger_d) This just won't solve"
     ],
     "language": "python",
     "metadata": {},
     "outputs": [],
     "prompt_number": 17
    },
    {
     "cell_type": "code",
     "collapsed": false,
     "input": [
      "#%timeit np.linalg.solve(bigger_wide_sym_spm.toarray(),bigger_d) Neither will this"
     ],
     "language": "python",
     "metadata": {},
     "outputs": [],
     "prompt_number": 18
    },
    {
     "cell_type": "code",
     "collapsed": false,
     "input": [
      "def pisolve(method,matrix):\n",
      "    p=spilu(matrix,drop_tol=1.0e-5)\n",
      "    mx=lambda x: p.solve(x)\n",
      "    M=LinearOperator(matrix.shape,mx)\n",
      "    method(matrix,bigger_d,M=M)"
     ],
     "language": "python",
     "metadata": {},
     "outputs": [],
     "prompt_number": 19
    },
    {
     "cell_type": "code",
     "collapsed": false,
     "input": [
      "%timeit pisolve(cg,bigger_wide_sym_spm)  #csc 10 loops, best of 3: 96.9 ms per loop"
     ],
     "language": "python",
     "metadata": {},
     "outputs": [
      {
       "output_type": "stream",
       "stream": "stdout",
       "text": [
        "10 loops, best of 3: 89.7 ms per loop\n"
       ]
      },
      {
       "output_type": "stream",
       "stream": "stderr",
       "text": [
        "/usr/local/lib/python3.4/site-packages/scipy/sparse/linalg/dsolve/linsolve.py:293: SparseEfficiencyWarning: splu requires CSC matrix format\n",
        "  warn('splu requires CSC matrix format', SparseEfficiencyWarning)\n"
       ]
      }
     ],
     "prompt_number": 20
    },
    {
     "cell_type": "code",
     "collapsed": false,
     "input": [
      "%timeit pisolve(bicgstab,bigger_wide_sym_spm) #csc 10 loops, best of 3: 95.4 ms per loop"
     ],
     "language": "python",
     "metadata": {},
     "outputs": [
      {
       "output_type": "stream",
       "stream": "stdout",
       "text": [
        "1 loops, best of 3: 93.1 ms per loop\n"
       ]
      }
     ],
     "prompt_number": 21
    },
    {
     "cell_type": "code",
     "collapsed": false,
     "input": [
      "%timeit pisolve(gmres,bigger_wide_sym_spm) #csc 10 loops, best of 3: 108 ms per loop"
     ],
     "language": "python",
     "metadata": {},
     "outputs": [
      {
       "output_type": "stream",
       "stream": "stdout",
       "text": [
        "10 loops, best of 3: 95.1 ms per loop\n"
       ]
      }
     ],
     "prompt_number": 22
    },
    {
     "cell_type": "code",
     "collapsed": false,
     "input": [
      "spy(bigger_wide_sym_spm)"
     ],
     "language": "python",
     "metadata": {},
     "outputs": [
      {
       "metadata": {},
       "output_type": "pyout",
       "prompt_number": 23,
       "text": [
        "<matplotlib.lines.Line2D at 0x110e70b38>"
       ]
      },
      {
       "metadata": {},
       "output_type": "display_data",
       "png": "[encoded data removed]",
       "text": [
        "<matplotlib.figure.Figure at 0x110084400>"
       ]
      }
     ],
     "prompt_number": 23
    },
    {
     "cell_type": "code",
     "collapsed": false,
     "input": [],
     "language": "python",
     "metadata": {},
     "outputs": [],
     "prompt_number": 23
    }
   ],
   "metadata": {}
  }
 ]
}