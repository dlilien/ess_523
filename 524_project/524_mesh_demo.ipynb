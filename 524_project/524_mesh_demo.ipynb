{
 "metadata": {
  "name": "",
  "signature": "sha256:a27f4605d952976a24c84e0f6b0a6e377d82a3f352506a56a3f40ee7ac8c72a7"
 },
 "nbformat": 3,
 "nbformat_minor": 0,
 "worksheets": [
  {
   "cells": [
    {
     "cell_type": "heading",
     "level": 1,
     "metadata": {},
     "source": [
      "A simple 2D finite element package"
     ]
    },
    {
     "cell_type": "heading",
     "level": 2,
     "metadata": {},
     "source": [
      "https://github.com/dlilien/fem_2d"
     ]
    },
    {
     "cell_type": "markdown",
     "metadata": {},
     "source": [
      "This is a demonstration of some of the features of the 2d finite element code I have written. It uses the \"mesh\" class, which can be created manually but should really just be used to import meshes from gmsh (can be downloaded from http://geuz.org/gmsh/). All the code for this project should be pulled from https://github.com/dlilien/fem_2d. The only dependencies are python, numpy, scipy, and matplotlib. Convenience scripts to aid in mesh generation for geophysical problems are included in the repository but not shown here."
     ]
    },
    {
     "cell_type": "code",
     "collapsed": false,
     "input": [
      "import numpy as np\n",
      "import matplotlib # Need to do an annoying import to get the correct backend to load\n",
      "import matplotlib.pyplot as plt\n",
      "# %matplotlib inline"
     ],
     "language": "python",
     "metadata": {},
     "outputs": [],
     "prompt_number": 1
    },
    {
     "cell_type": "code",
     "collapsed": false,
     "input": [
      "from importlib import reload                # WTF Python#?!?!?!?!?!\n",
      "import sys\n",
      "sys.path.append('/Users/dlilien/cloud/Dropbox/spring_2015_courses/ess_523/project/')\n",
      "import classesFEM                     # Contains the classes to produce meshes (could be used for finite volume too)\n",
      "import equationsFEM             # Some equations we are able to solve\n",
      "reload(classesFEM);                    # This is just for while I'm adding code, not needed later"
     ],
     "language": "python",
     "metadata": {},
     "outputs": [
      {
       "metadata": {},
       "output_type": "pyout",
       "prompt_number": 2,
       "text": [
        "<module 'classesFEM' from '/Users/dlilien/cloud/Dropbox/spring_2015_courses/ess_523/project/classesFEM.py'>"
       ]
      }
     ],
     "prompt_number": 2
    },
    {
     "cell_type": "heading",
     "level": 2,
     "metadata": {},
     "source": [
      "Diffusion"
     ]
    },
    {
     "cell_type": "markdown",
     "metadata": {},
     "source": [
      "Let's solve the diffusion equation on a simple domain. We need the weak form of the equation over domain $\\Omega$. Using Green's theorem with an arbitary solution $\\varphi$ and test function $\\phi$, this is\n",
      "\\begin{equation}\n",
      "\\int_\\Omega\\nabla\\cdot(k\\nabla\\phi)\\varphi d\\Omega=-\\int_\\Omega k\\nabla\\varphi\\cdot\\nabla\\phi d\\Omega+\\int_{\\partial\\Omega}\\varphi(k\\nabla\\phi\\cdot u_n) d\\partial\\Omega\n",
      "\\end{equation}\n",
      "where $u_n$ is the outward normal along the boundary $\\partial\\Omega$. Our solution is $\\varphi=\\sum a_i \\phi_i$ where the $\\phi_i$s are both the test and basis functions.\n",
      "\n",
      "Now to put this in matrix form, we let sum these integrals over the various trial and test functions to get\n",
      "\\begin{equation}\n",
      "\\sum_{i,j}\\int_\\Omega a_i\\nabla\\cdot(k\\nabla\\phi_i)\\phi_j d\\Omega=-\\sum_{i,j}\\int_\\Omega a_i k\\nabla\\phi_i\\cdot\\nabla\\phi_j d\\Omega+\\sum_{i,j}\\int_{\\partial\\Omega}\\phi_j(k\\nabla a_i\\phi_i\\cdot u_n) d\\partial\\Omega\n",
      "\\end{equation}\n",
      "The first two sums involve no boundary conditions. The third integral will vanish everywhere except along the borders, where we need to use it to specify the boundary conditions. For a Dirichlet condition, we can specify it explicitly by zeroing out the row and column of the matrix except the diagonal element and modifying the right hand side appropriately. For a Neumann condition, we will not explicitly enforce the boundary condition, but it will held up to the accuracy of the method. I set things up so that the flux, $k\\nabla a_i\\phi_i$, is what the user specifies. We then just integrate this against linear test functions on the border (conveniently provided by GMSH)"
     ]
    },
    {
     "cell_type": "markdown",
     "metadata": {},
     "source": [
      "Create a model\n",
      "--------------\n",
      "First we need to create an object which will hold the information about what equations we are trying to solve, and what mesh we will solve it on. I have created a couple ways to do this-here I just initialize the model by passing a gmsh file as the argument."
     ]
    },
    {
     "cell_type": "code",
     "collapsed": false,
     "input": [
      "model=classesFEM.Model('testmesh.msh');                 # Square mesh for test case\n",
      "tm=model.mesh;                                          # Just for convenience"
     ],
     "language": "python",
     "metadata": {},
     "outputs": [
      {
       "output_type": "stream",
       "stream": "stdout",
       "text": [
        "Defaulting to steady state model\n"
       ]
      }
     ],
     "prompt_number": 3
    },
    {
     "cell_type": "code",
     "collapsed": false,
     "input": [
      "tm.PlotBorder(axis=[-2, 12, -2, 12])"
     ],
     "language": "python",
     "metadata": {},
     "outputs": [],
     "prompt_number": 4
    },
    {
     "cell_type": "markdown",
     "metadata": {},
     "source": [
      "We now need to specify some things about what we are solving. We can specify a source function later if we like, but the overall equation type must be specified first so that the matrix can be properly modified based on boundary conditions. For each border, we specify the type of condition, the border number, and the function. The function can be any python function (e.g. linear interpolation to map data to your mesh, or something simple)."
     ]
    },
    {
     "cell_type": "code",
     "collapsed": false,
     "input": [
      "model.add_equation(equationsFEM.diffusion())\n",
      "model.add_BC('neumann',1,lambda x: -1.0)\n",
      "model.add_BC('dirichlet',2,lambda x: 10.0)\n",
      "model.add_BC('dirichlet',3,lambda x:10.0)\n",
      "model.add_BC('neumann',4,lambda x:0.0)"
     ],
     "language": "python",
     "metadata": {},
     "outputs": [],
     "prompt_number": 5
    },
    {
     "cell_type": "markdown",
     "metadata": {},
     "source": [
      "Solving the equations\n",
      "---\n",
      "The actual solving is done with an object called a ModelIterate, which takes all the information from the model object but can also pass additional arguments to the boundary conditions and equation, for example so that we can have time dependent boundary conditions or source terms with the same governing equations"
     ]
    },
    {
     "cell_type": "code",
     "collapsed": false,
     "input": [
      "mi=classesFEM.ModelIterate(model)\n",
      "mi.MakeMatrixEQ() #f=lambda x:(5.0-abs(x[0]-5.0))*(5.0-abs(x[1]-5.0)),k=lambda x:10.0)\n",
      "mi.applyBCs()"
     ],
     "language": "python",
     "metadata": {},
     "outputs": [],
     "prompt_number": 6
    },
    {
     "cell_type": "markdown",
     "metadata": {},
     "source": [
      "We are now ready to solve the equations themselves. I use conjugate gradients because it is fast and has guaranteed convergence for symmetric problems. The other options are direct (using LU decomposition by Gaussian elimation with partial pivoting) or BiCGStab (which is similar to conjugate gradients but will work for asymmetric matrices). If CG fails, BiCGStab is attempted before a convergence error is raised. Specifying tolerance or maximum number of iterations are both options."
     ]
    },
    {
     "cell_type": "code",
     "collapsed": false,
     "input": [
      "mi.solveIt(method='CG')       # Solve the equations using conjugate gradients, or BiCGStab if this fails\n",
      "sol=mi.plotSolution(show=True,savesol=True,figsize=(15,10))    # Let's see how we did"
     ],
     "language": "python",
     "metadata": {},
     "outputs": [],
     "prompt_number": 7
    },
    {
     "cell_type": "markdown",
     "metadata": {},
     "source": [
      "Shallow Shelf Approximation\n",
      "========\n",
      "I implement the shallow shelf approximation (SSA) in 2D plan view. I skip the derivation, but the equations we want to solve are\n",
      "$$\\frac{\\partial}{\\partial x}\\left(2\\nu h\\left(2\\frac{\\partial u}{\\partial x}+\\frac{\\partial v}{\\partial y}\\right)\\right)+\\frac\\partial{\\partial y}\\left(\\nu h\\left(\\frac{\\partial u}{\\partial y}+\\frac{\\partial v}{\\partial x}\\right)\\right)-\\eta^2 u -\\rho g h \\frac{\\partial z_s}{\\partial x} = 0$$\n",
      "and\n",
      "$$\\frac{\\partial}{\\partial y}\\left(2\\nu h\\left(2\\frac{\\partial v}{\\partial y}+\\frac{\\partial u}{\\partial x}\\right)\\right)+\\frac\\partial{\\partial x}\\left(\\nu h\\left(\\frac{\\partial v}{\\partial x}+\\frac{\\partial u}{\\partial y}\\right)\\right)-\\eta^2 v -\\rho g h \\frac{\\partial z_s}{\\partial y} = 0$$\n",
      "\n",
      "The viscosity is some function of the strain rates which I update iteratively but omit here since it does not enter into the finite element derivation.\n",
      "\n",
      "I generally follow Ian's derivation, which largely follows Doug MacAyeal's 1989 book (I use unpublished notes, but similar to Joughin 2010 on PIG).\n",
      "\n",
      "Weak Form\n",
      "----\n",
      "We need to integrate the two equations above against a weight function to get the weak form. Since the derivations are identical, I proceed only with the first. We want\n",
      "\n",
      "$$\\int\\int_\\Omega\\Psi\\left[\\frac{\\partial}{\\partial x}\\left(2\\nu h\\left(2\\frac{\\partial u}{\\partial x}+\\frac{\\partial v}{\\partial y}\\right)\\right)+\\frac\\partial{\\partial y}\\left(\\nu h\\left(\\frac{\\partial u}{\\partial y}+\\frac{\\partial v}{\\partial x}\\right)\\right)-\\eta^2 u -\\rho g h \\frac{\\partial z_s}{\\partial x}\\right] = 0$$\n",
      "\n",
      "At this point we can apply Green's theorm to the portion of the equation involving derivatives of the velocity. If we write\n",
      "\n",
      "$$ {\\bf F}=\\left[\\begin{array}{c} \\left(2\\nu h\\left(2\\frac{\\partial u}{\\partial x}+\\frac{\\partial v}{\\partial y}\\right)\\right)\\\\\\left(\\nu h \\left(\\frac{\\partial u}{\\partial y}+\\frac{\\partial v}{\\partial x}\\right)\\right)\\end{array}\\right]$$\n",
      "\n",
      "We can reduce the equation we are solving to $$\\int\\int_\\Omega\\Psi\\nabla \\cdot {\\bf F}-\\int\\int_\\Omega\\Psi \\eta^2 u = 0$$\n",
      "and then Green's theorem gives us $$\\int\\int_\\Omega\\Psi\\nabla \\cdot {\\bf F}=-\\int\\int_\\Omega\\nabla\\Psi\\cdot{\\bf F}+\\oint_{\\partial\\Omega}\\Psi{\\bf F}\\cdot\\hat u_n$$\n",
      "\n",
      "And our overall equation becomes\n",
      "\n",
      "$$\\int\\int_\\Omega\\left[\\frac{\\partial\\Psi}{\\partial x}\\left(2\\nu h\\left(2\\frac{\\partial u}{\\partial x}+\\frac{\\partial v}{\\partial y}\\right)\\right)+\\frac{\\partial\\Psi}{\\partial y}\\left(\\nu h\\left(\\frac{\\partial u}{\\partial y}+\\frac{\\partial v}{\\partial x}\\right)\\right)-\\Psi\\eta^2 u -\\Psi\\rho g h \\frac{\\partial z_s}{\\partial x}\\right] -\\oint_{\\partial \\Omega} \\Psi{\\bf F}\\cdot \\hat u_n= 0$$\n",
      "\n",
      "At this point I am going to break with Ian's derivation because he adds some complexity to the gradients of thickness that I don't think is necessary here.\n",
      "\n",
      "Now impose the Galerkin finite element approximation i.e. we take a set of piecewise linear basis functions $\\phi_i$ and use these as the weighting functions as well. The line integral again will be how we impose boundary condtions. Again, ignore it for now and look at the surface integral over the interior. Call the $u$ weights $u_i$ and the $v$ weights $v_i$. I index the bases with $i$'s and the weights with $j$'s.\n",
      "\n",
      "The first equation we are trying to solve is then\n",
      "\n"
     ]
    },
    {
     "cell_type": "code",
     "collapsed": false,
     "input": [],
     "language": "python",
     "metadata": {},
     "outputs": [],
     "prompt_number": 7
    },
    {
     "cell_type": "code",
     "collapsed": false,
     "input": [],
     "language": "python",
     "metadata": {},
     "outputs": [],
     "prompt_number": 7
    }
   ],
   "metadata": {}
  }
 ]
}